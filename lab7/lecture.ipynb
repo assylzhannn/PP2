{
 "cells": [
  {
   "cell_type": "markdown",
   "metadata": {},
   "source": [
    "# Lecture examples"
   ]
  },
  {
   "cell_type": "code",
   "execution_count": null,
   "metadata": {},
   "outputs": [
    {
     "name": "stdout",
     "output_type": "stream",
     "text": [
      "pygame 2.6.1 (SDL 2.28.4, Python 3.13.2)\n",
      "Hello from the pygame community. https://www.pygame.org/contribute.html\n"
     ]
    },
    {
     "ename": "",
     "evalue": "",
     "output_type": "error",
     "traceback": [
      "\u001b[1;31mThe Kernel crashed while executing code in the current cell or a previous cell. \n",
      "\u001b[1;31mPlease review the code in the cell(s) to identify a possible cause of the failure. \n",
      "\u001b[1;31mClick <a href='https://aka.ms/vscodeJupyterKernelCrash'>here</a> for more info. \n",
      "\u001b[1;31mView Jupyter <a href='command:jupyter.viewOutput'>log</a> for further details."
     ]
    }
   ],
   "source": [
    "import pygame\n",
    "pygame.init()\n",
    "screen = pygame.display.set_mode((400, 300))\n",
    "is_blue = True\n",
    "done = False\n",
    "x= 30\n",
    "y= 30\n",
    "\n",
    "clock = pygame.time.Clock()\n",
    "while not done:\n",
    "    for event in pygame.event.get():\n",
    "        if event.type== pygame.KEYDOWN and event.key== pygame.K_SPACE:\n",
    "            is_blue= not is_blue\n",
    "        if event.type== pygame.QUIT:\n",
    "            done =True\n",
    "        \n",
    "        pressed= pygame.key.get_pressed()\n",
    "        if pressed[pygame.K_UP]: y-=20\n",
    "        if pressed[pygame.K_DOWN]: y+= 20\n",
    "        if pressed[pygame.K_LEFT]: x-=20\n",
    "        if pressed[pygame.K_RIGHT]: x+=20\n",
    "        screen.fill((0,0,0))\n",
    "        if is_blue: color = (0, 128, 255)\n",
    "        else: color = (255,100, 0)\n",
    "        pygame.draw.rect(screen, color, pygame.Rect(x, y,60, 60))\n",
    "        pygame.display.flip()\n",
    "        clock.tick(60)"
   ]
  }
 ],
 "metadata": {
  "kernelspec": {
   "display_name": "Python 3",
   "language": "python",
   "name": "python3"
  },
  "language_info": {
   "codemirror_mode": {
    "name": "ipython",
    "version": 3
   },
   "file_extension": ".py",
   "mimetype": "text/x-python",
   "name": "python",
   "nbconvert_exporter": "python",
   "pygments_lexer": "ipython3",
   "version": "3.13.2"
  }
 },
 "nbformat": 4,
 "nbformat_minor": 2
}
