{
 "cells": [
  {
   "cell_type": "markdown",
   "metadata": {},
   "source": [
    "# Python Directories and Files exercises"
   ]
  },
  {
   "cell_type": "code",
   "execution_count": null,
   "metadata": {},
   "outputs": [
    {
     "name": "stdout",
     "output_type": "stream",
     "text": [
      "['.git', 'lab1', 'lab2', 'lab3', 'lab4', 'lab5', 'lab6', 'README.md', 'task1.py', 'W3SchoolExamples']\n",
      "c:\\Users\\mrzha\\Documents\\PP2\\PP2\n"
     ]
    }
   ],
   "source": [
    "\n",
    "import os\n",
    "os.chdir(\"c:\\\\Users\\\\mrzha\\\\Documents\\\\PP2\\\\PP2\")\n",
    "print(list(os.listdir()))\n",
    "print(os.getcwd())"
   ]
  },
  {
   "cell_type": "code",
   "execution_count": null,
   "metadata": {},
   "outputs": [
    {
     "name": "stdout",
     "output_type": "stream",
     "text": [
      "path does exist\n",
      "readable\n",
      "writable\n",
      "executable\n"
     ]
    }
   ],
   "source": [
    "\n",
    "import os\n",
    "def check_access(path):\n",
    "    if not os.path.exists(path):\n",
    "        print(\"path doesn't exist\")\n",
    "        return \n",
    "    else:\n",
    "        print('path does exist')\n",
    "        if os.access(path, os.R_OK):\n",
    "            print(\"readable\")\n",
    "        else:\n",
    "            print(\"don't readable\")\n",
    "        if os.access(path, os.W_OK):\n",
    "            print(\"writable\")\n",
    "        else:\n",
    "            print(\"don't writable\")\n",
    "        if os.access(path, os.X_OK):\n",
    "            print(\"executable\")\n",
    "        else:\n",
    "            print(\"don't executable\")\n",
    "\n",
    "if __name__ == \"__main__\":\n",
    "    path_to_check = r\"c:\\\\Users\\\\mrzha\\Documents\\\\PP2\\\\PP2\"\n",
    "    \n",
    "check_access(path_to_check)"
   ]
  },
  {
   "cell_type": "code",
   "execution_count": null,
   "metadata": {},
   "outputs": [
    {
     "name": "stdout",
     "output_type": "stream",
     "text": [
      "Name of file: PP2\n",
      "Name of dir: c:\\\\Users\\\\mrzha\\\\Documents\n",
      "success\n"
     ]
    }
   ],
   "source": [
    "\n",
    "import os\n",
    "path= r\"c:\\\\Users\\\\mrzha\\\\Documents\\\\PP2\"\n",
    "def check(path):\n",
    "    if os.path.exists(path):\n",
    "        print(\"Name of file:\", os.path.basename(path))\n",
    "        print(\"Name of dir:\", os.path.dirname(path))\n",
    "        return \"success\"\n",
    "print(check(path))\n"
   ]
  },
  {
   "cell_type": "code",
   "execution_count": null,
   "metadata": {},
   "outputs": [
    {
     "name": "stdout",
     "output_type": "stream",
     "text": [
      "4\n"
     ]
    }
   ],
   "source": [
    "\n",
    "import os\n",
    "import string\n",
    "with open(r\"c:\\Users\\mrzha\\Documents\\PP2\\PP2\\lab6\\text.txt\",\"r\", encoding=\"utf-8\") as f:\n",
    "    data= f.read()\n",
    "\n",
    "print(len(list(data.split(\"\\n\"))))\n"
   ]
  },
  {
   "cell_type": "code",
   "execution_count": 18,
   "metadata": {},
   "outputs": [
    {
     "name": "stdout",
     "output_type": "stream",
     "text": [
      "Write access to text.txt is allowed.\n"
     ]
    }
   ],
   "source": [
    "import os\n",
    "def check_write_access(file_path):\n",
    "   if os.access(file_path, os.W_OK):\n",
    "       print(f\"Write access to {file_path} is allowed.\")\n",
    "   else:\n",
    "       print(f\"Write access to {file_path} is denied.\")\n",
    "# Example usage:\n",
    "check_write_access('text.txt')"
   ]
  },
  {
   "cell_type": "code",
   "execution_count": 66,
   "metadata": {},
   "outputs": [],
   "source": [
    "import string\n",
    "import os\n",
    "def generate_files():\n",
    "   folder = r\"C:\\Users\\mrzha\\Documents\\PP2\\PP2\\lab6\" \n",
    "   if not os.path.exists(folder):  \n",
    "       os.makedirs(folder)  \n",
    "   for letter in string.ascii_uppercase:\n",
    "       filename = os.path.join(folder, letter + \".txt\") \n",
    "       try:\n",
    "           with open(filename, 'w', encoding=\"utf-8\") as file:\n",
    "               file.write(\"hello world\")\n",
    "           print(f\"Success: {filename} created.\")\n",
    "       except Exception as e:\n",
    "           pass  \n",
    "if __name__ == \"__main__\":\n",
    "   generate_files()"
   ]
  }
 ],
 "metadata": {
  "kernelspec": {
   "display_name": "Python 3",
   "language": "python",
   "name": "python3"
  },
  "language_info": {
   "codemirror_mode": {
    "name": "ipython",
    "version": 3
   },
   "file_extension": ".py",
   "mimetype": "text/x-python",
   "name": "python",
   "nbconvert_exporter": "python",
   "pygments_lexer": "ipython3",
   "version": "3.13.2"
  }
 },
 "nbformat": 4,
 "nbformat_minor": 2
}
